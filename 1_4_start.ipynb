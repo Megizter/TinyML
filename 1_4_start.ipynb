{
  "nbformat": 4,
  "nbformat_minor": 0,
  "metadata": {
    "colab": {
      "provenance": [],
      "authorship_tag": "ABX9TyPMGuLcHk2dNHvzNuJkHgVS",
      "include_colab_link": true
    },
    "kernelspec": {
      "name": "python3",
      "display_name": "Python 3"
    },
    "language_info": {
      "name": "python"
    }
  },
  "cells": [
    {
      "cell_type": "markdown",
      "metadata": {
        "id": "view-in-github",
        "colab_type": "text"
      },
      "source": [
        "<a href=\"https://colab.research.google.com/github/Megizter/TinyML/blob/main/1_4_start.ipynb\" target=\"_parent\"><img src=\"https://colab.research.google.com/assets/colab-badge.svg\" alt=\"Open In Colab\"/></a>"
      ]
    },
    {
      "cell_type": "code",
      "execution_count": null,
      "metadata": {
        "colab": {
          "base_uri": "https://localhost:8080/"
        },
        "id": "RcbCJVzu1gm0",
        "outputId": "6d96b770-3ad6-4c63-f08f-e0762205c8a2"
      },
      "outputs": [
        {
          "output_type": "stream",
          "name": "stdout",
          "text": [
            "Hello World!\n"
          ]
        }
      ],
      "source": [
        "print(\"Hello World!\")"
      ]
    },
    {
      "cell_type": "code",
      "source": [
        "import tensorflow as tf\n",
        "class MyModel(tf.keras.Model):\n",
        "  def __init__(self):\n",
        "    super(MyModel, self).__init__()\n",
        "    # define Neural Network layer types\n",
        "    self.conv    = tf.keras.layers.Conv2D(32, 3, activation='relu')\n",
        "    self.flatten = tf.keras.layers.Flatten()\n",
        "    self.dense1  = tf.keras.layers.Dense(128, activation='relu')\n",
        "    self.dense2  = tf.keras.layers.Dense(10)\n",
        "\n",
        "  def call (self, x):\n",
        "    x = self.conv(x)\n",
        "    x = self.flatten(x)\n",
        "    x = self.dense1(x)\n",
        "    x = self.dense2(x)\n",
        "    return x\n",
        "\n",
        "model = MyModel()"
      ],
      "metadata": {
        "id": "yn36TDns3rO8"
      },
      "execution_count": null,
      "outputs": []
    },
    {
      "cell_type": "code",
      "source": [],
      "metadata": {
        "id": "jcSVf3ny89FF"
      },
      "execution_count": null,
      "outputs": []
    }
  ]
}